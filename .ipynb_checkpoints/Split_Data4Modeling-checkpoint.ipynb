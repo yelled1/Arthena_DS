{
 "cells": [
  {
   "cell_type": "markdown",
   "metadata": {},
   "source": [
    "# Modeling"
   ]
  },
  {
   "cell_type": "code",
   "execution_count": 10,
   "metadata": {},
   "outputs": [],
   "source": [
    "import pdb\n",
    "import re, numbers\n",
    "import numpy as np\n",
    "import pandas as pd\n",
    "import matplotlib.pyplot as plt\n",
    "import seaborn as sns\n",
    "from sklearn.model_selection import train_test_split\n",
    "from functools import partial\n",
    "import statsmodels.formula.api as sm\n",
    "\n",
    "# put data into bins: needed for continous data \n",
    "#(Really just histogram, but Data is so axis bound graph is not very clear)\n",
    "def binny(df_series, bins=25):\n",
    "    bins = np.linspace(df_series.min(), df_series.max(), bins)\n",
    "    grps = df_series.groupby(np.digitize(df_series, bins))\n",
    "    return grps.agg(['min', 'max','count'])"
   ]
  },
  {
   "cell_type": "code",
   "execution_count": 19,
   "metadata": {},
   "outputs": [
    {
     "name": "stdout",
     "output_type": "stream",
     "text": [
      "           min         max   count\n",
      "1         -1.0   3200000.0  100986\n",
      "2    3300000.0   6500000.0     183\n",
      "3    6600000.0   9750000.0      53\n",
      "4   10000000.0  12000000.0       8\n",
      "5   13200000.0  15500000.0       9\n",
      "6   18800000.0  18800000.0       3\n",
      "7   21250000.0  22000000.0       2\n",
      "8   24200000.0  26000000.0       3\n",
      "9   28000000.0  28000000.0       2\n",
      "10  29500000.0  29500000.0       1\n",
      "12  36000000.0  36000000.0       2\n",
      "25  78500000.0  78500000.0       2\n"
     ]
    },
    {
     "data": {
      "text/html": [
       "<div>\n",
       "<style scoped>\n",
       "    .dataframe tbody tr th:only-of-type {\n",
       "        vertical-align: middle;\n",
       "    }\n",
       "\n",
       "    .dataframe tbody tr th {\n",
       "        vertical-align: top;\n",
       "    }\n",
       "\n",
       "    .dataframe thead th {\n",
       "        text-align: right;\n",
       "    }\n",
       "</style>\n",
       "<table border=\"1\" class=\"dataframe\">\n",
       "  <thead>\n",
       "    <tr style=\"text-align: right;\">\n",
       "      <th></th>\n",
       "      <th>min</th>\n",
       "      <th>max</th>\n",
       "      <th>count</th>\n",
       "    </tr>\n",
       "  </thead>\n",
       "  <tbody>\n",
       "    <tr>\n",
       "      <th>1</th>\n",
       "      <td>1017.0</td>\n",
       "      <td>3200000.0</td>\n",
       "      <td>85600</td>\n",
       "    </tr>\n",
       "    <tr>\n",
       "      <th>2</th>\n",
       "      <td>3300000.0</td>\n",
       "      <td>6500000.0</td>\n",
       "      <td>183</td>\n",
       "    </tr>\n",
       "    <tr>\n",
       "      <th>3</th>\n",
       "      <td>6600000.0</td>\n",
       "      <td>9750000.0</td>\n",
       "      <td>53</td>\n",
       "    </tr>\n",
       "    <tr>\n",
       "      <th>4</th>\n",
       "      <td>10000000.0</td>\n",
       "      <td>12000000.0</td>\n",
       "      <td>8</td>\n",
       "    </tr>\n",
       "    <tr>\n",
       "      <th>5</th>\n",
       "      <td>13200000.0</td>\n",
       "      <td>15500000.0</td>\n",
       "      <td>9</td>\n",
       "    </tr>\n",
       "    <tr>\n",
       "      <th>6</th>\n",
       "      <td>18800000.0</td>\n",
       "      <td>18800000.0</td>\n",
       "      <td>3</td>\n",
       "    </tr>\n",
       "    <tr>\n",
       "      <th>7</th>\n",
       "      <td>21250000.0</td>\n",
       "      <td>22000000.0</td>\n",
       "      <td>2</td>\n",
       "    </tr>\n",
       "    <tr>\n",
       "      <th>8</th>\n",
       "      <td>24200000.0</td>\n",
       "      <td>26000000.0</td>\n",
       "      <td>3</td>\n",
       "    </tr>\n",
       "    <tr>\n",
       "      <th>9</th>\n",
       "      <td>28000000.0</td>\n",
       "      <td>28000000.0</td>\n",
       "      <td>2</td>\n",
       "    </tr>\n",
       "    <tr>\n",
       "      <th>10</th>\n",
       "      <td>29500000.0</td>\n",
       "      <td>29500000.0</td>\n",
       "      <td>1</td>\n",
       "    </tr>\n",
       "    <tr>\n",
       "      <th>12</th>\n",
       "      <td>36000000.0</td>\n",
       "      <td>36000000.0</td>\n",
       "      <td>2</td>\n",
       "    </tr>\n",
       "    <tr>\n",
       "      <th>25</th>\n",
       "      <td>78500000.0</td>\n",
       "      <td>78500000.0</td>\n",
       "      <td>2</td>\n",
       "    </tr>\n",
       "  </tbody>\n",
       "</table>\n",
       "</div>"
      ],
      "text/plain": [
       "           min         max  count\n",
       "1       1017.0   3200000.0  85600\n",
       "2    3300000.0   6500000.0    183\n",
       "3    6600000.0   9750000.0     53\n",
       "4   10000000.0  12000000.0      8\n",
       "5   13200000.0  15500000.0      9\n",
       "6   18800000.0  18800000.0      3\n",
       "7   21250000.0  22000000.0      2\n",
       "8   24200000.0  26000000.0      3\n",
       "9   28000000.0  28000000.0      2\n",
       "10  29500000.0  29500000.0      1\n",
       "12  36000000.0  36000000.0      2\n",
       "25  78500000.0  78500000.0      2"
      ]
     },
     "execution_count": 19,
     "metadata": {},
     "output_type": "execute_result"
    }
   ],
   "source": [
    "# Read Back the Pickled file &\n",
    "dfo = pd.read_pickle('./cData.pickle')\n",
    "dfo = dfo[ ~np.isnan(dfo.hammer_price)]; dfo.shape # Anytime Hammer_price is nan Get rid of row\n",
    "df = dfo[ dfo.hammer_price > 1000]; df.shape  \n",
    "# or Hammer_price is less than 1000 Not really interesting & we have too much of it & bound to axis\n",
    "print(binny(dfo.hammer_price))\n",
    "binny(df.hammer_price)"
   ]
  },
  {
   "cell_type": "code",
   "execution_count": 12,
   "metadata": {},
   "outputs": [
    {
     "name": "stderr",
     "output_type": "stream",
     "text": [
      "/opt/miniconda3/envs/SPk/lib/python3.6/site-packages/ipykernel_launcher.py:1: SettingWithCopyWarning: \n",
      "A value is trying to be set on a copy of a slice from a DataFrame.\n",
      "Try using .loc[row_indexer,col_indexer] = value instead\n",
      "\n",
      "See the caveats in the documentation: http://pandas.pydata.org/pandas-docs/stable/indexing.html#indexing-view-versus-copy\n",
      "  \"\"\"Entry point for launching an IPython kernel.\n",
      "/opt/miniconda3/envs/SPk/lib/python3.6/site-packages/ipykernel_launcher.py:2: SettingWithCopyWarning: \n",
      "A value is trying to be set on a copy of a slice from a DataFrame.\n",
      "Try using .loc[row_indexer,col_indexer] = value instead\n",
      "\n",
      "See the caveats in the documentation: http://pandas.pydata.org/pandas-docs/stable/indexing.html#indexing-view-versus-copy\n",
      "  \n",
      "/opt/miniconda3/envs/SPk/lib/python3.6/site-packages/ipykernel_launcher.py:3: SettingWithCopyWarning: \n",
      "A value is trying to be set on a copy of a slice from a DataFrame.\n",
      "Try using .loc[row_indexer,col_indexer] = value instead\n",
      "\n",
      "See the caveats in the documentation: http://pandas.pydata.org/pandas-docs/stable/indexing.html#indexing-view-versus-copy\n",
      "  This is separate from the ipykernel package so we can avoid doing imports until\n",
      "/opt/miniconda3/envs/SPk/lib/python3.6/site-packages/ipykernel_launcher.py:4: SettingWithCopyWarning: \n",
      "A value is trying to be set on a copy of a slice from a DataFrame.\n",
      "Try using .loc[row_indexer,col_indexer] = value instead\n",
      "\n",
      "See the caveats in the documentation: http://pandas.pydata.org/pandas-docs/stable/indexing.html#indexing-view-versus-copy\n",
      "  after removing the cwd from sys.path.\n",
      "/opt/miniconda3/envs/SPk/lib/python3.6/site-packages/ipykernel_launcher.py:5: SettingWithCopyWarning: \n",
      "A value is trying to be set on a copy of a slice from a DataFrame.\n",
      "Try using .loc[row_indexer,col_indexer] = value instead\n",
      "\n",
      "See the caveats in the documentation: http://pandas.pydata.org/pandas-docs/stable/indexing.html#indexing-view-versus-copy\n",
      "  \"\"\"\n",
      "/opt/miniconda3/envs/SPk/lib/python3.6/site-packages/ipykernel_launcher.py:6: SettingWithCopyWarning: \n",
      "A value is trying to be set on a copy of a slice from a DataFrame.\n",
      "Try using .loc[row_indexer,col_indexer] = value instead\n",
      "\n",
      "See the caveats in the documentation: http://pandas.pydata.org/pandas-docs/stable/indexing.html#indexing-view-versus-copy\n",
      "  \n"
     ]
    }
   ],
   "source": [
    "df['USD_hamP'] = df.hammer_price * df.CONVrate\n",
    "df['USD_Hest'] = df.estimate_high * df.CONVrate\n",
    "df['USD_Lest'] = df.estimate_low * df.CONVrate\n",
    "df['USD_DjiP'] = df.USD_hamP / df.DJlevel\n",
    "df['USD_Dest'] = (df.USD_Hest+df.USD_Lest) / (df.DJlevel*2)\n",
    "df['USD_estH'] = df.USD_Hest / df.DJlevel"
   ]
  },
  {
   "cell_type": "code",
   "execution_count": 22,
   "metadata": {},
   "outputs": [
    {
     "name": "stdout",
     "output_type": "stream",
     "text": [
      "(68694, 24)\n",
      "(17174, 24)\n"
     ]
    }
   ],
   "source": [
    "df_train, df_test = train_test_split(df, test_size=.2)\n",
    "print(df_train.shape)\n",
    "print(df_test.shape)"
   ]
  }
 ],
 "metadata": {
  "kernelspec": {
   "display_name": "SPky3",
   "language": "python",
   "name": "python3"
  },
  "language_info": {
   "codemirror_mode": {
    "name": "ipython",
    "version": 3
   },
   "file_extension": ".py",
   "mimetype": "text/x-python",
   "name": "python",
   "nbconvert_exporter": "python",
   "pygments_lexer": "ipython3",
   "version": "3.6.4"
  }
 },
 "nbformat": 4,
 "nbformat_minor": 2
}
