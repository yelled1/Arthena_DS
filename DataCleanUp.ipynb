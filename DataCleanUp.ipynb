{
 "cells": [
  {
   "cell_type": "markdown",
   "metadata": {},
   "source": [
    "# Data Clean Up processes"
   ]
  },
  {
   "cell_type": "code",
   "execution_count": 1,
   "metadata": {},
   "outputs": [],
   "source": [
    "import re, numbers\n",
    "import numpy as np\n",
    "import pandas as pd\n",
    "from functools import partial #currency -> USD?\n",
    "\n",
    "#Converts Currencies\n",
    "def currency_conv(curr):\n",
    "    if   curr == \"GBP\": return 1.4\n",
    "    elif curr == \"EUR\": return 1.24\n",
    "    elif curr == \"USD\": return 1.24\n",
    "    else: return np.NaN\n",
    "\n",
    "# Mainly used for execution Yr Data\n",
    "def ckInt(is_int, tf=False, dbg=False, btwnYrs=True):\n",
    "    if is_int != is_int: return np.NaN\n",
    "    elif isinstance(is_int, numbers.Number):\n",
    "        if dbg: print(\"dbg: numeric\")\n",
    "        if tf: return True\n",
    "        else:\n",
    "            #year of execution Not ridiculous\n",
    "            if btwnYrs and (is_int < 1800 or is_int > 2019): return np.NaN\n",
    "            return is_int\n",
    "    else:\n",
    "        if dbg: print(\"dbg: Notnum\")\n",
    "        if tf: return False\n",
    "        else:\n",
    "            r = re.search(\"[1-9][0-9][0-9][0-9]\", is_int)\n",
    "            if not(r): return np.NaN\n",
    "            else:\n",
    "                nYr = float(r.group(0))\n",
    "                if btwnYrs and (nYr < 1800 or nYr > 2019): return np.NaN\n",
    "                return nYr\n",
    "            \n",
    "# Using partial functions for quick apply to columnal data\n",
    "TFInt = partial(ckInt,True, True)\n",
    "TFint = partial(ckInt,True, False)"
   ]
  },
  {
   "cell_type": "code",
   "execution_count": 2,
   "metadata": {},
   "outputs": [
    {
     "name": "stdout",
     "output_type": "stream",
     "text": [
      "(107578, 18)\n",
      "<class 'pandas.core.frame.DataFrame'>\n",
      "RangeIndex: 107578 entries, 0 to 107577\n",
      "Data columns (total 18 columns):\n",
      "artist_birth_year        107578 non-null int64\n",
      "artist_death_year        71186 non-null float64\n",
      "artist_name              107578 non-null object\n",
      "artist_nationality       107578 non-null object\n",
      "auction_date             107578 non-null object\n",
      "category                 107578 non-null object\n",
      "currency                 107578 non-null object\n",
      "edition                  13376 non-null object\n",
      "estimate_high            68404 non-null float64\n",
      "estimate_low             68409 non-null float64\n",
      "hammer_price             101254 non-null float64\n",
      "location                 89733 non-null object\n",
      "materials                105739 non-null object\n",
      "measurement_depth_cm     107578 non-null int64\n",
      "measurement_height_cm    107578 non-null int64\n",
      "measurement_width_cm     107578 non-null int64\n",
      "title                    107118 non-null object\n",
      "year_of_execution        79818 non-null object\n",
      "dtypes: float64(4), int64(4), object(10)\n",
      "memory usage: 14.8+ MB\n"
     ]
    }
   ],
   "source": [
    "# Reading the input Data in\n",
    "#data = pd.read_csv('data.csv', encoding='iso-8859-1')\n",
    "data = pd.read_csv('data.csv', encoding='latin-1')\n",
    "print(data.shape)\n",
    "data.info()"
   ]
  },
  {
   "cell_type": "code",
   "execution_count": 3,
   "metadata": {},
   "outputs": [
    {
     "name": "stdout",
     "output_type": "stream",
     "text": [
      "   artist_birth_year  artist_death_year  artist_name year_of_execution\n",
      "0               1902             1982.0  Wifredo Lam              1944\n",
      "1               1902             1982.0  Wifredo Lam              1964\n",
      "2               1902             1982.0  Wifredo Lam              1955\n",
      "3               1902             1982.0  Wifredo Lam              1973\n",
      "4               1902             1982.0  Wifredo Lam               NaN\n"
     ]
    }
   ],
   "source": [
    "print(data[['artist_birth_year', 'artist_death_year', 'artist_name','year_of_execution']].head())\n",
    "#print(data.year_of_execution.value_counts(dropna=False))\n",
    "#print(data.currency.value_counts(dropna=False))\n",
    "#print(data.artist_nationality.value_counts(dropna=False))"
   ]
  },
  {
   "cell_type": "code",
   "execution_count": 4,
   "metadata": {},
   "outputs": [],
   "source": [
    "# Adding currency coversion rates\n",
    "data['CONVrate'] = data.currency.apply(currency_conv)\n",
    "# Mark if work is unique == more $$$ than others\n",
    "data['unique'] = data.edition == \"unique\"\n",
    "#auction date post death? or near/at death = death increase price\n",
    "data['auct_yr'] =  pd.DatetimeIndex(data.auction_date).year\n",
    "data['exec_pmortem'] = data.auct_yr >= data.artist_death_year\n",
    "data[\"yr_exec\"] = data.year_of_execution.apply(ckInt)\n",
    "#print(data.year_of_execution.value_counts(dropna=False)) # check to see if conversion to int done right"
   ]
  },
  {
   "cell_type": "code",
   "execution_count": 5,
   "metadata": {},
   "outputs": [
    {
     "name": "stdout",
     "output_type": "stream",
     "text": [
      "hammer < highEstm 18984\n",
      "hammer > low Estm 24572\n"
     ]
    },
    {
     "data": {
      "text/html": [
       "<div>\n",
       "<style scoped>\n",
       "    .dataframe tbody tr th:only-of-type {\n",
       "        vertical-align: middle;\n",
       "    }\n",
       "\n",
       "    .dataframe tbody tr th {\n",
       "        vertical-align: top;\n",
       "    }\n",
       "\n",
       "    .dataframe thead th {\n",
       "        text-align: right;\n",
       "    }\n",
       "</style>\n",
       "<table border=\"1\" class=\"dataframe\">\n",
       "  <thead>\n",
       "    <tr style=\"text-align: right;\">\n",
       "      <th></th>\n",
       "      <th>exec_pmortem</th>\n",
       "      <th>auct_yr</th>\n",
       "      <th>artist_death_year</th>\n",
       "    </tr>\n",
       "  </thead>\n",
       "  <tbody>\n",
       "    <tr>\n",
       "      <th>0</th>\n",
       "      <td>True</td>\n",
       "      <td>1987</td>\n",
       "      <td>1982.0</td>\n",
       "    </tr>\n",
       "    <tr>\n",
       "      <th>1</th>\n",
       "      <td>True</td>\n",
       "      <td>2005</td>\n",
       "      <td>1982.0</td>\n",
       "    </tr>\n",
       "    <tr>\n",
       "      <th>2</th>\n",
       "      <td>True</td>\n",
       "      <td>1994</td>\n",
       "      <td>1982.0</td>\n",
       "    </tr>\n",
       "    <tr>\n",
       "      <th>3</th>\n",
       "      <td>True</td>\n",
       "      <td>1987</td>\n",
       "      <td>1982.0</td>\n",
       "    </tr>\n",
       "    <tr>\n",
       "      <th>4</th>\n",
       "      <td>True</td>\n",
       "      <td>2002</td>\n",
       "      <td>1982.0</td>\n",
       "    </tr>\n",
       "  </tbody>\n",
       "</table>\n",
       "</div>"
      ],
      "text/plain": [
       "   exec_pmortem  auct_yr  artist_death_year\n",
       "0          True     1987             1982.0\n",
       "1          True     2005             1982.0\n",
       "2          True     1994             1982.0\n",
       "3          True     1987             1982.0\n",
       "4          True     2002             1982.0"
      ]
     },
     "execution_count": 5,
     "metadata": {},
     "output_type": "execute_result"
    }
   ],
   "source": [
    "print(\"hammer < highEstm\", np.sum(data.estimate_high < data.hammer_price))\n",
    "print(\"hammer > low Estm\", np.sum(data.estimate_low  > data.hammer_price))\n",
    "data[['exec_pmortem', 'auct_yr', 'artist_death_year']].query(\"exec_pmortem == 1\").head()"
   ]
  },
  {
   "cell_type": "code",
   "execution_count": 6,
   "metadata": {},
   "outputs": [
    {
     "data": {
      "text/plain": [
       "True"
      ]
     },
     "execution_count": 6,
     "metadata": {},
     "output_type": "execute_result"
    }
   ],
   "source": [
    "isinstance(data.year_of_execution.iloc[-1] , numbers.Number)\n",
    "isinstance(np.NaN, numbers.Number)"
   ]
  },
  {
   "cell_type": "code",
   "execution_count": 7,
   "metadata": {},
   "outputs": [
    {
     "name": "stdout",
     "output_type": "stream",
     "text": [
      "0\n"
     ]
    }
   ],
   "source": [
    "#birth yr > death yr\n",
    "print(np.sum(data.artist_birth_year > data.artist_death_year)) # 0 good\n",
    "#print(data.yr_exec.value_counts())"
   ]
  },
  {
   "cell_type": "code",
   "execution_count": 8,
   "metadata": {},
   "outputs": [
    {
     "data": {
      "text/html": [
       "<div>\n",
       "<style scoped>\n",
       "    .dataframe tbody tr th:only-of-type {\n",
       "        vertical-align: middle;\n",
       "    }\n",
       "\n",
       "    .dataframe tbody tr th {\n",
       "        vertical-align: top;\n",
       "    }\n",
       "\n",
       "    .dataframe thead th {\n",
       "        text-align: right;\n",
       "    }\n",
       "</style>\n",
       "<table border=\"1\" class=\"dataframe\">\n",
       "  <thead>\n",
       "    <tr style=\"text-align: right;\">\n",
       "      <th></th>\n",
       "      <th>Year</th>\n",
       "      <th>DJlevel</th>\n",
       "    </tr>\n",
       "  </thead>\n",
       "  <tbody>\n",
       "    <tr>\n",
       "      <th>0</th>\n",
       "      <td>1900</td>\n",
       "      <td>68.130</td>\n",
       "    </tr>\n",
       "    <tr>\n",
       "      <th>1</th>\n",
       "      <td>1901</td>\n",
       "      <td>70.440</td>\n",
       "    </tr>\n",
       "    <tr>\n",
       "      <th>2</th>\n",
       "      <td>1902</td>\n",
       "      <td>64.320</td>\n",
       "    </tr>\n",
       "    <tr>\n",
       "      <th>3</th>\n",
       "      <td>1903</td>\n",
       "      <td>56.855</td>\n",
       "    </tr>\n",
       "    <tr>\n",
       "      <th>4</th>\n",
       "      <td>1904</td>\n",
       "      <td>70.050</td>\n",
       "    </tr>\n",
       "  </tbody>\n",
       "</table>\n",
       "</div>"
      ],
      "text/plain": [
       "   Year  DJlevel\n",
       "0  1900   68.130\n",
       "1  1901   70.440\n",
       "2  1902   64.320\n",
       "3  1903   56.855\n",
       "4  1904   70.050"
      ]
     },
     "execution_count": 8,
     "metadata": {},
     "output_type": "execute_result"
    }
   ],
   "source": [
    "def cnv_mean(x): return float(x.replace(',',''))\n",
    "#Adding Dji Avg Data Given Acution years goes back to 80's. This will be used as asset value normalizer\n",
    "\n",
    "dji = pd.read_csv(\"DJind.txt\", sep=\"\\t\")\n",
    "dji['DJlevel'] = dji.ValueClose.apply(cnv_mean)\n",
    "DJi = dji.groupby(['Year'], as_index=False).agg({'DJlevel': 'mean'})\n",
    "df = data.merge(DJi, how='left', left_on=['auct_yr'], right_on=['Year'])\n",
    "del df['Year']\n",
    "DJi.head()"
   ]
  },
  {
   "cell_type": "code",
   "execution_count": 9,
   "metadata": {},
   "outputs": [],
   "source": [
    "def binny(df_series, bins=25):\n",
    "    bins = np.linspace(df_series.min(), df_series.max(), bins)\n",
    "    grps = df_series.groupby(np.digitize(df_series, bins))\n",
    "    return grps.agg(['min', 'max','count'])"
   ]
  },
  {
   "cell_type": "markdown",
   "metadata": {},
   "source": [
    "## Getting rid of useless Data"
   ]
  },
  {
   "cell_type": "code",
   "execution_count": 11,
   "metadata": {},
   "outputs": [
    {
     "data": {
      "text/plain": [
       "(85868, 24)"
      ]
     },
     "execution_count": 11,
     "metadata": {},
     "output_type": "execute_result"
    }
   ],
   "source": [
    "df = df[~np.isnan(df.hammer_price)]\n",
    "df = df[df.hammer_price > 1000]; df.shape  "
   ]
  },
  {
   "cell_type": "markdown",
   "metadata": {},
   "source": [
    "## Adding USD converated & Dow Jones Adjusted Data\n",
    "### Seriously Data is from 80's & all assets should be normalized"
   ]
  },
  {
   "cell_type": "code",
   "execution_count": 12,
   "metadata": {},
   "outputs": [],
   "source": [
    "df['USD_hamP'] = df.hammer_price * df.CONVrate\n",
    "df['USD_Hest'] = df.estimate_high * df.CONVrate\n",
    "df['USD_Lest'] = df.estimate_low * df.CONVrate\n",
    "df['USD_DjiP'] = df.USD_hamP / df.DJlevel\n",
    "df['USD_Dest'] = (df.USD_Hest+df.USD_Lest) / (df.DJlevel*2)\n",
    "df['USD_estH'] = df.USD_Hest / df.DJlevel"
   ]
  },
  {
   "cell_type": "code",
   "execution_count": 15,
   "metadata": {},
   "outputs": [
    {
     "name": "stdout",
     "output_type": "stream",
     "text": [
      "(68694, 30)\n",
      "(17174, 30)\n"
     ]
    }
   ],
   "source": [
    "from sklearn.model_selection import train_test_split\n",
    "\n",
    "df_train, df_test = train_test_split(df, test_size=.2)\n",
    "print(df_train.shape)\n",
    "print(df_test.shape)"
   ]
  },
  {
   "cell_type": "code",
   "execution_count": 13,
   "metadata": {},
   "outputs": [
    {
     "data": {
      "text/plain": [
       "\"\\nDATA Conversion & insight\\nyear of execution -> numeric early, mid, late\\nattempt to id the artist by yr first 3 digits or by 50 year interval?\\nLong vs Short title?\\ncheck to see if market level (SPX) or volatility? (VIX not that long) has anything to do w/ price?\\n\\ndata.year_of_execution.head().apply(ckInt)\\ndata.year_of_execution.apply(ckInt)\\ndata[['year_of_execution', ]]\\ndata.year_of_execution[data.year_of_execution.apply(TFint)]\\ndata.year_of_execution.apply(TFint)\\ndata.year_of_execution.iloc[-3:].apply(ckInt)\\ndata.year_of_execution.iloc[-3:].apply(TFInt) # what the #$@#$!\\ndata.year_of_execution.iloc[-3:]\\nckInt(data.year_of_execution.iloc[-1], True, True)\\n\""
      ]
     },
     "execution_count": 13,
     "metadata": {},
     "output_type": "execute_result"
    }
   ],
   "source": [
    "# Some additional Data checking\n",
    "\"\"\"\n",
    "DATA Conversion & insight\n",
    "year of execution -> numeric early, mid, late\n",
    "attempt to id the artist by yr first 3 digits or by 50 year interval?\n",
    "Long vs Short title?\n",
    "check to see if market level (SPX) or volatility? (VIX not that long) has anything to do w/ price?\n",
    "\n",
    "data.year_of_execution.head().apply(ckInt)\n",
    "data.year_of_execution.apply(ckInt)\n",
    "data[['year_of_execution', ]]\n",
    "data.year_of_execution[data.year_of_execution.apply(TFint)]\n",
    "data.year_of_execution.apply(TFint)\n",
    "data.year_of_execution.iloc[-3:].apply(ckInt)\n",
    "data.year_of_execution.iloc[-3:].apply(TFInt) # what the #$@#$!\n",
    "data.year_of_execution.iloc[-3:]\n",
    "ckInt(data.year_of_execution.iloc[-1], True, True)\n",
    "\"\"\""
   ]
  },
  {
   "cell_type": "code",
   "execution_count": 17,
   "metadata": {},
   "outputs": [
    {
     "data": {
      "text/plain": [
       "Index(['artist_birth_year', 'artist_death_year', 'artist_name',\n",
       "       'artist_nationality', 'auction_date', 'category', 'currency', 'edition',\n",
       "       'estimate_high', 'estimate_low', 'hammer_price', 'location',\n",
       "       'materials', 'measurement_depth_cm', 'measurement_height_cm',\n",
       "       'measurement_width_cm', 'title', 'year_of_execution', 'CONVrate',\n",
       "       'unique', 'auct_yr', 'exec_pmortem', 'yr_exec', 'DJlevel', 'USD_hamP',\n",
       "       'USD_Hest', 'USD_Lest', 'USD_DjiP', 'USD_Dest', 'USD_estH'],\n",
       "      dtype='object')"
      ]
     },
     "execution_count": 17,
     "metadata": {},
     "output_type": "execute_result"
    }
   ],
   "source": [
    "df_train.columns"
   ]
  },
  {
   "cell_type": "code",
   "execution_count": null,
   "metadata": {},
   "outputs": [],
   "source": []
  }
 ],
 "metadata": {
  "kernelspec": {
   "display_name": "SPky3",
   "language": "python",
   "name": "python3"
  },
  "language_info": {
   "codemirror_mode": {
    "name": "ipython",
    "version": 3
   },
   "file_extension": ".py",
   "mimetype": "text/x-python",
   "name": "python",
   "nbconvert_exporter": "python",
   "pygments_lexer": "ipython3",
   "version": "3.6.4"
  }
 },
 "nbformat": 4,
 "nbformat_minor": 2
}
